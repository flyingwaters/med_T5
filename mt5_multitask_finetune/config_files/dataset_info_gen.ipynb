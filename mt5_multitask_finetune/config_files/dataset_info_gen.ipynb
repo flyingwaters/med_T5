{
 "cells": [
  {
   "cell_type": "code",
   "execution_count": 2,
   "metadata": {},
   "outputs": [],
   "source": [
    "import json\n",
    "import os\n",
    "categories_list = os.listdir(\"/raid/yiptmp/nlp_prepare_dataset/med0_dataset/tasks_zh_medical\")\n",
    "\n",
    "with open(\"zh_med_task_names.json\", \"w\") as f:\n",
    "    json.dump(categories_list, f, ensure_ascii=False, indent=2)\n",
    "        "
   ]
  },
  {
   "cell_type": "code",
   "execution_count": 3,
   "metadata": {},
   "outputs": [
    {
     "data": {
      "text/plain": [
       "['disease_location',\n",
       " 'disease_name_generate',\n",
       " 'question_gen',\n",
       " 'text_rewrite',\n",
       " 'QA',\n",
       " 'ner',\n",
       " 'text2sql',\n",
       " 'qa_skg',\n",
       " 'normalize_task',\n",
       " 'text_sim',\n",
       " 'indent_classification',\n",
       " 'slot',\n",
       " 'medical_summary',\n",
       " 'text_classification',\n",
       " 'QA_choice']"
      ]
     },
     "execution_count": 3,
     "metadata": {},
     "output_type": "execute_result"
    }
   ],
   "source": [
    "categories_list"
   ]
  },
  {
   "cell_type": "code",
   "execution_count": 4,
   "metadata": {},
   "outputs": [
    {
     "data": {
      "text/plain": [
       "46"
      ]
     },
     "execution_count": 4,
     "metadata": {},
     "output_type": "execute_result"
    }
   ],
   "source": [
    "import os\n",
    "count_n = 0\n",
    "base_pth = \"/raid/yiptmp/nlp_prepare_dataset/med0_dataset/tasks_zh_medical\"\n",
    "for i in categories_list:\n",
    "    for _,dirs,files in os.walk(os.path.join(base_pth, i)):\n",
    "        for name in dirs:\n",
    "            count_n+=1\n",
    "count_n"
   ]
  },
  {
   "cell_type": "code",
   "execution_count": 5,
   "metadata": {},
   "outputs": [
    {
     "data": {
      "text/plain": [
       "15"
      ]
     },
     "execution_count": 5,
     "metadata": {},
     "output_type": "execute_result"
    }
   ],
   "source": [
    "import json\n",
    "with open(\"/raid/zyftest/project/Med0/mt5_multitask_finetune/config_files/zh_med_task_names.json\", \"r\") as f:\n",
    "      content = json.load(f)\n",
    "len(content)"
   ]
  },
  {
   "cell_type": "code",
   "execution_count": 6,
   "metadata": {},
   "outputs": [],
   "source": [
    "count_lines_num = {}"
   ]
  },
  {
   "cell_type": "code",
   "execution_count": 7,
   "metadata": {},
   "outputs": [
    {
     "name": "stdout",
     "output_type": "stream",
     "text": [
      "yidu_s4k_subtask2\n",
      "toadexport\n",
      "aiaiyi_case\n",
      "zh_medicalmrc_qa\n",
      "rewrite_second_ft\n",
      "rewrite\n",
      "toadexportkb\n",
      "webmedqa\n",
      "covid19_dialogue\n",
      "zhiyeyishi_qa\n",
      "cmedqa2\n",
      "chimed\n",
      "dingxiangyuan_qa\n",
      "cataract_dialogue\n",
      "chinese_medical_dialogue_data\n",
      "chinese_medicine_instructions\n",
      "tainchi_prediction\n",
      "cmid\n",
      "yidu_s4k_subtask1\n",
      "ruijin_diabetes\n",
      "ccks2017\n",
      "ccir_2019\n",
      "cmedqa\n",
      "toadexport7\n",
      "toadexport6\n",
      "toadexport3\n",
      "toadexport4\n",
      "toadexport2\n",
      "diabetes_dialogue\n",
      "cnki_mrc\n",
      "clinical_standardization\n",
      "chip2019\n",
      "sentence_simliar_covid19\n",
      "bias\n",
      "is_query\n",
      "dialogue_intention_classifier\n",
      "diabetes_slot_dialogue\n",
      "lcsts_new_summarization\n",
      "chinese_medical_summarization\n",
      "truthful\n",
      "triage_data\n",
      "medqa\n",
      "kaoshiku\n",
      "zhiyeyishi_qa\n",
      "aiaiyi_question_bank\n",
      "mlec_qa\n"
     ]
    }
   ],
   "source": [
    "import os\n",
    "base_pth = \"/raid/yiptmp/nlp_prepare_dataset/med0_dataset/tasks_zh_medical\"\n",
    "for i in content:\n",
    "    u = os.listdir(base_pth + \"/\" + i)\n",
    "    for dataset_name in u:\n",
    "        print(dataset_name)\n",
    "        train_file_pth = base_pth + \"/\" + i +\"/\"+dataset_name+\"/\" +\"train.tsv\"\n",
    "        with open(train_file_pth, \"r\") as f:\n",
    "            all_lines = [i for i in f]\n",
    "            if len(all_lines) >= 100000:\n",
    "                count_lines_num[dataset_name] = 100000\n",
    "            elif len(all_lines) <= 10000:\n",
    "                count_lines_num[dataset_name] = 10000\n",
    "            else:\n",
    "                count_lines_num[dataset_name] = len(all_lines)                  \n"
   ]
  },
  {
   "cell_type": "code",
   "execution_count": 8,
   "metadata": {},
   "outputs": [
    {
     "data": {
      "text/plain": [
       "{'yidu_s4k_subtask2': 10000,\n",
       " 'toadexport': 100000,\n",
       " 'aiaiyi_case': 82173,\n",
       " 'zh_medicalmrc_qa': 28224,\n",
       " 'rewrite_second_ft': 42184,\n",
       " 'rewrite': 73808,\n",
       " 'toadexportkb': 100000,\n",
       " 'webmedqa': 100000,\n",
       " 'covid19_dialogue': 10000,\n",
       " 'zhiyeyishi_qa': 10000,\n",
       " 'cmedqa2': 100000,\n",
       " 'chimed': 100000,\n",
       " 'dingxiangyuan_qa': 100000,\n",
       " 'cataract_dialogue': 10000,\n",
       " 'chinese_medical_dialogue_data': 100000,\n",
       " 'chinese_medicine_instructions': 11179,\n",
       " 'tainchi_prediction': 100000,\n",
       " 'cmid': 68621,\n",
       " 'yidu_s4k_subtask1': 10000,\n",
       " 'ruijin_diabetes': 19586,\n",
       " 'ccks2017': 10000,\n",
       " 'ccir_2019': 10000,\n",
       " 'cmedqa': 100000,\n",
       " 'toadexport7': 100000,\n",
       " 'toadexport6': 100000,\n",
       " 'toadexport3': 100000,\n",
       " 'toadexport4': 100000,\n",
       " 'toadexport2': 96450,\n",
       " 'diabetes_dialogue': 10000,\n",
       " 'cnki_mrc': 39070,\n",
       " 'clinical_standardization': 12000,\n",
       " 'chip2019': 100000,\n",
       " 'sentence_simliar_covid19': 45384,\n",
       " 'bias': 10000,\n",
       " 'is_query': 100000,\n",
       " 'dialogue_intention_classifier': 100000,\n",
       " 'diabetes_slot_dialogue': 18815,\n",
       " 'lcsts_new_summarization': 100000,\n",
       " 'chinese_medical_summarization': 100000,\n",
       " 'truthful': 10000,\n",
       " 'triage_data': 100000,\n",
       " 'medqa': 100000,\n",
       " 'kaoshiku': 100000,\n",
       " 'aiaiyi_question_bank': 61975,\n",
       " 'mlec_qa': 100000}"
      ]
     },
     "execution_count": 8,
     "metadata": {},
     "output_type": "execute_result"
    }
   ],
   "source": [
    "count_lines_num"
   ]
  },
  {
   "cell_type": "code",
   "execution_count": 10,
   "metadata": {},
   "outputs": [],
   "source": [
    "test_names = [\n",
    "        \"cmeee\",\"cmeie\", \n",
    "        \"imcs_dac\",\"imcs_ner\",\"imcs_sr\",\"imcs_mrg\",\n",
    "        \"kuake_qic\",\"kuake_qqr\",\"kuake_qtr\",\n",
    "        \"meddg\",\n",
    "        \"chip_sts\",\"chip_ctc\",\"chip_cdn\", \"chip_cdee\", \"chip_mdcfnpc\"\n",
    "        ]\n",
    "for i in count_lines_num.keys():\n",
    "        if i in test_names:\n",
    "                print(i)\n",
    "                # no test dataset in train_dataset"
   ]
  },
  {
   "cell_type": "code",
   "execution_count": 9,
   "metadata": {},
   "outputs": [],
   "source": [
    "import json\n",
    "with open(\"/raid/zyftest/project/Med0/mt5_multitask_finetune/config_files/dataset_info.json\", \"w\") as w:\n",
    "    json.dump(count_lines_num, w, ensure_ascii=False, indent=2)"
   ]
  }
 ],
 "metadata": {
  "kernelspec": {
   "display_name": "Python 3.7.13 ('t0')",
   "language": "python",
   "name": "python3"
  },
  "language_info": {
   "codemirror_mode": {
    "name": "ipython",
    "version": 3
   },
   "file_extension": ".py",
   "mimetype": "text/x-python",
   "name": "python",
   "nbconvert_exporter": "python",
   "pygments_lexer": "ipython3",
   "version": "3.7.13"
  },
  "orig_nbformat": 4,
  "vscode": {
   "interpreter": {
    "hash": "462d7afb82e73546fb32fc68c91be82fe4847e6fdf969ffd1e2ed36758d69187"
   }
  }
 },
 "nbformat": 4,
 "nbformat_minor": 2
}
