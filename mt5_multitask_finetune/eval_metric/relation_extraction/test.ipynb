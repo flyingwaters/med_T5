{
 "cells": [
  {
   "cell_type": "code",
   "execution_count": null,
   "metadata": {},
   "outputs": [],
   "source": [
    "from typing import Tuple\n",
    "import json\n",
    "def test_data_prepare(path:str, type=\"ner\")->Tuple[list,list]:\n",
    "    \"generate the test dataset from path in ncbi_blue dataset\"\n",
    "    try:\n",
    "        with open(path,\"r\") as f:\n",
    "            content = json.load(f)\n",
    "    except:\n",
    "        raise Exception(\"the file need to be #json# file type!\")\n",
    "    # 每个template 单独 计算 inference metric\n",
    "    print(\"{} test dataset length is {}\".format(path, len(content)))\n",
    "    input_list = []\n",
    "    label_list = []\n",
    "    for i in content:   \n",
    "        tmp = i.split(\"\\t\")    \n",
    "        if len(tmp)<=1:\n",
    "            raise Exception(\"input sentence spliting exception!\")\n",
    "        # require len(tmp)>=2 \n",
    "        input = \" \".join(tmp[:-1])\n",
    "        label = tmp[-1]\n",
    "        input_list.append(input)\n",
    "        # ,\n",
    "        label_list.append(label)\n",
    "    return input_list, label_list         "
   ]
  },
  {
   "cell_type": "code",
   "execution_count": null,
   "metadata": {},
   "outputs": [],
   "source": []
  }
 ],
 "metadata": {
  "kernelspec": {
   "display_name": "Python 3.7.12 ('t0')",
   "language": "python",
   "name": "python3"
  },
  "language_info": {
   "codemirror_mode": {
    "name": "ipython",
    "version": 3
   },
   "file_extension": ".py",
   "mimetype": "text/x-python",
   "name": "python",
   "nbconvert_exporter": "python",
   "pygments_lexer": "ipython3",
   "version": "3.7.13"
  },
  "orig_nbformat": 4,
  "vscode": {
   "interpreter": {
    "hash": "462d7afb82e73546fb32fc68c91be82fe4847e6fdf969ffd1e2ed36758d69187"
   }
  }
 },
 "nbformat": 4,
 "nbformat_minor": 2
}
