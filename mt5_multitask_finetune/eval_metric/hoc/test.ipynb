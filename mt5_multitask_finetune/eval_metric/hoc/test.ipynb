{
 "cells": [
  {
   "cell_type": "code",
   "execution_count": null,
   "metadata": {},
   "outputs": [],
   "source": [
    "import json\n",
    "from promptsource.templates import DatasetTemplates\n",
    "hoc_prompt = DatasetTemplates(\"hoc\")"
   ]
  },
  {
   "cell_type": "code",
   "execution_count": null,
   "metadata": {},
   "outputs": [],
   "source": [
    "name_list = hoc_prompt.all_template_names"
   ]
  },
  {
   "cell_type": "code",
   "execution_count": null,
   "metadata": {},
   "outputs": [],
   "source": [
    "base = \"/raid/yiptmp/nlp_prepare_dataset/med0_dataset/dataset_templates_sep\"\n",
    "hoc_base = base+\"/\"+\"hoc\"\n",
    "import os\n",
    "import json\n",
    "import pandas as pd\n",
    "for i in os.listdir(hoc_base):\n",
    "    with open(os.path.join(hoc_base,i), \"r\") as f:\n",
    "        content = json.load(f)\n",
    "    break"
   ]
  },
  {
   "cell_type": "markdown",
   "metadata": {},
   "source": [
    "### json dataset apply promptsource tool to valid the dataset_tsv whether suitable"
   ]
  },
  {
   "cell_type": "code",
   "execution_count": null,
   "metadata": {},
   "outputs": [],
   "source": [
    "import json\n",
    "def open_json(name):\n",
    "    with open(name,\"r\") as f:\n",
    "        content = json.load(f)\n",
    "    return content"
   ]
  },
  {
   "cell_type": "code",
   "execution_count": null,
   "metadata": {},
   "outputs": [],
   "source": [
    "from promptsource.templates import DatasetTemplates\n",
    "hoc_p = DatasetTemplates(\"hoc\")"
   ]
  },
  {
   "cell_type": "code",
   "execution_count": null,
   "metadata": {},
   "outputs": [],
   "source": [
    "base_hoc_json = \"/raid/yiptmp/nlp_prepare_dataset/med0_dataset/dataset_json_format/hoc\"\n",
    "import json\n",
    "content = open_json(base_hoc_json+\"/\"+\"train.json\")\n",
    "print(content[0])\n",
    "d = [i for i in content if \"empty\" not in i[\"labels\"]]\n",
    "for i in content:\n",
    "    for prompt in hoc_p.all_template_names:\n",
    "        after_prompt = hoc_p[prompt].apply(i) \n",
    "        print(after_prompt)\n",
    "    break\n",
    "\n"
   ]
  }
 ],
 "metadata": {
  "kernelspec": {
   "display_name": "Python 3.7.12 ('t0')",
   "language": "python",
   "name": "python3"
  },
  "language_info": {
   "codemirror_mode": {
    "name": "ipython",
    "version": 3
   },
   "file_extension": ".py",
   "mimetype": "text/x-python",
   "name": "python",
   "nbconvert_exporter": "python",
   "pygments_lexer": "ipython3",
   "version": "3.7.13"
  },
  "orig_nbformat": 4,
  "vscode": {
   "interpreter": {
    "hash": "462d7afb82e73546fb32fc68c91be82fe4847e6fdf969ffd1e2ed36758d69187"
   }
  }
 },
 "nbformat": 4,
 "nbformat_minor": 2
}
